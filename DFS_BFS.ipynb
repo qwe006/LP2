{
 "cells": [
  {
   "cell_type": "code",
   "execution_count": 18,
   "id": "12d5c2f0-f03f-4d5c-8f16-7887437e5f3e",
   "metadata": {},
   "outputs": [
    {
     "name": "stdin",
     "output_type": "stream",
     "text": [
      "Enter the number of vertices:  4\n",
      "Enter the number of edges:  4\n"
     ]
    },
    {
     "name": "stdout",
     "output_type": "stream",
     "text": [
      "Enter each edge in the format 'vertex1 vertex2 weight':\n"
     ]
    },
    {
     "name": "stdin",
     "output_type": "stream",
     "text": [
      " 1 2 2\n",
      " 1 3 4\n",
      " 2 4 5\n"
     ]
    },
    {
     "ename": "IndexError",
     "evalue": "list assignment index out of range",
     "output_type": "error",
     "traceback": [
      "\u001b[1;31m---------------------------------------------------------------------------\u001b[0m",
      "\u001b[1;31mIndexError\u001b[0m                                Traceback (most recent call last)",
      "Cell \u001b[1;32mIn[18], line 47\u001b[0m\n\u001b[0;32m     45\u001b[0m \u001b[38;5;28;01mfor\u001b[39;00m _ \u001b[38;5;129;01min\u001b[39;00m \u001b[38;5;28mrange\u001b[39m(edges_count):\n\u001b[0;32m     46\u001b[0m     u, v, weight \u001b[38;5;241m=\u001b[39m \u001b[38;5;28mmap\u001b[39m(\u001b[38;5;28mint\u001b[39m, \u001b[38;5;28minput\u001b[39m()\u001b[38;5;241m.\u001b[39mstrip()\u001b[38;5;241m.\u001b[39msplit())\n\u001b[1;32m---> 47\u001b[0m     graph[u][v] \u001b[38;5;241m=\u001b[39m weight\n\u001b[0;32m     48\u001b[0m     graph[v][u] \u001b[38;5;241m=\u001b[39m weight  \u001b[38;5;66;03m# Because the graph is undirected\u001b[39;00m\n\u001b[0;32m     50\u001b[0m start \u001b[38;5;241m=\u001b[39m \u001b[38;5;28mint\u001b[39m(\u001b[38;5;28minput\u001b[39m(\u001b[38;5;124mf\u001b[39m\u001b[38;5;124m\"\u001b[39m\u001b[38;5;124mEnter the starting vertex (0 to \u001b[39m\u001b[38;5;132;01m{\u001b[39;00mn\u001b[38;5;241m-\u001b[39m\u001b[38;5;241m1\u001b[39m\u001b[38;5;132;01m}\u001b[39;00m\u001b[38;5;124m): \u001b[39m\u001b[38;5;124m\"\u001b[39m))\n",
      "\u001b[1;31mIndexError\u001b[0m: list assignment index out of range"
     ]
    }
   ],
   "source": [
    "import heapq\n",
    "\n",
    "# Function for Prims Algorithm to find MST\n",
    "def prim_mst(graph, start):\n",
    "    n = len(graph)  # Number of vertices\n",
    "    mst = []  # List to store the edges of the MST\n",
    "    visited = [False] * n  # Keep track of visited vertices\n",
    "    min_heap = [(0, start, None)]  # (weight, vertex, parent)\n",
    "    \n",
    "    print(f\"\\n🔍 Starting Prim's Algorithm from vertex {start}...\\n\")\n",
    "    \n",
    "    while min_heap:\n",
    "        weight, u, parent = heapq.heappop(min_heap)  # Extract min-weight edge\n",
    "        if visited[u]:\n",
    "            continue\n",
    "        \n",
    "        visited[u] = True  # Mark the vertex as visited\n",
    "        \n",
    "        if parent is not None:\n",
    "            print(f\"Step: Add edge {parent} - {u} with weight {weight}\")\n",
    "            mst.append((parent, u, weight))  # Add edge (parent -> u) to MST\n",
    "        \n",
    "        for v, weight in enumerate(graph[u]):\n",
    "            if not visited[v] and weight > 0:  # If not visited and there's an edge\n",
    "                heapq.heappush(min_heap, (weight, v, u))  # Push to heap\n",
    "    \n",
    "    return mst\n",
    "\n",
    "def visualize_mst(mst):\n",
    "    print(\"\\n✅ Final MST Visualization:\")\n",
    "    for u, v, weight in mst:\n",
    "        print(f\"Edge: {u} - {v}, Weight: {weight}\")\n",
    "\n",
    "# === 🚀 Main Program ===\n",
    "if __name__ == \"__main__\":\n",
    "    try:\n",
    "        n = int(input(\"Enter the number of vertices: \"))\n",
    "        \n",
    "        # Initialize graph with no edges\n",
    "        graph = [[0] * n for _ in range(n)]\n",
    "        \n",
    "        edges_count = int(input(f\"Enter the number of edges: \"))\n",
    "        \n",
    "        print(\"Enter each edge in the format 'vertex1 vertex2 weight':\")\n",
    "        for _ in range(edges_count):\n",
    "            u, v, weight = map(int, input().strip().split())\n",
    "            graph[u][v] = weight\n",
    "            graph[v][u] = weight  # Because the graph is undirected\n",
    "        \n",
    "        start = int(input(f\"Enter the starting vertex (0 to {n-1}): \"))\n",
    "        \n",
    "        # Run Prim's algorithm to find MST\n",
    "        mst = prim_mst(graph, start)\n",
    "        \n",
    "        # Visualize the MST\n",
    "        visualize_mst(mst)\n",
    "\n",
    "    except ValueError:\n",
    "        print(\"❌ Invalid input! Please ensure you enter the correct format.\")\n"
   ]
  },
  {
   "cell_type": "code",
   "execution_count": null,
   "id": "7986737a-11f4-4b0b-9289-1afe2519e64c",
   "metadata": {},
   "outputs": [],
   "source": []
  }
 ],
 "metadata": {
  "kernelspec": {
   "display_name": "Python 3 (ipykernel)",
   "language": "python",
   "name": "python3"
  },
  "language_info": {
   "codemirror_mode": {
    "name": "ipython",
    "version": 3
   },
   "file_extension": ".py",
   "mimetype": "text/x-python",
   "name": "python",
   "nbconvert_exporter": "python",
   "pygments_lexer": "ipython3",
   "version": "3.12.7"
  }
 },
 "nbformat": 4,
 "nbformat_minor": 5
}
